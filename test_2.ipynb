{
 "cells": [
  {
   "cell_type": "code",
   "execution_count": 70,
   "outputs": [],
   "source": [
    "class Board:\n",
    "    def __init__(self, board_size=6, human=True):\n",
    "        if human:\n",
    "            self.size = board_size\n",
    "            self.board = [[\"O\"] * self.size for _ in range(self.size)]\n",
    "        else:\n",
    "            self.size = board_size\n",
    "            self.board = [[\"O\"] * self.size for _ in range(self.size)]\n",
    "\n",
    "    def print_board(self):\n",
    "        print(\"  | 1 | 2 | 3 | 4 | 5 | 6 |\")\n",
    "        for i, row in enumerate(self.board):\n",
    "            print(f\"{i + 1} | {' | '.join(map(str, row))} |\")\n",
    "            \n",
    "    \n",
    "            \n",
    "clean_board_human = Board(board_size=6, human=True)\n",
    "clean_board_computer = Board(board_size=6, human=False)"
   ],
   "metadata": {
    "collapsed": false,
    "ExecuteTime": {
     "end_time": "2023-11-22T06:02:33.626552500Z",
     "start_time": "2023-11-22T06:02:33.616465900Z"
    }
   },
   "id": "7fc6e7c337cd9d35"
  },
  {
   "cell_type": "code",
   "execution_count": 71,
   "outputs": [
    {
     "name": "stdout",
     "output_type": "stream",
     "text": [
      "  | 1 | 2 | 3 | 4 | 5 | 6 |\n",
      "1 | O | O | O | O | O | O |\n",
      "2 | O | O | O | O | O | O |\n",
      "3 | O | O | O | O | O | O |\n",
      "4 | O | O | O | O | O | O |\n",
      "5 | O | O | O | O | O | O |\n",
      "6 | O | O | O | O | O | O |\n"
     ]
    }
   ],
   "source": [
    "clean_board_human.print_board()"
   ],
   "metadata": {
    "collapsed": false,
    "ExecuteTime": {
     "end_time": "2023-11-22T06:02:39.578551500Z",
     "start_time": "2023-11-22T06:02:39.565683700Z"
    }
   },
   "id": "a330ecb903a54984"
  },
  {
   "cell_type": "code",
   "execution_count": 53,
   "outputs": [],
   "source": [
    "import random\n",
    "\n",
    "class Ship:\n",
    "    def __init__(self, size, human=True):\n",
    "        if human:\n",
    "            self.board_size = clean_board.size\n",
    "            self.size = size\n",
    "            self.coordinates = []\n",
    "            self.taken_dots= dots_human.taken_dots\n",
    "        else:\n",
    "            self.board_size = clean_board.size\n",
    "            self.size = size\n",
    "            self.coordinates = []\n",
    "            self.taken_dots = dots_computer.taken_dots\n",
    "            \n",
    "    @staticmethod\n",
    "    def get_neighboring_coordinates(coordinates): #a list of tuples\n",
    "        neighbors = []\n",
    "\n",
    "        for x, y in coordinates:\n",
    "            neighbors.extend([(x - 1, y), (x + 1, y), (x, y - 1), (x, y + 1)])\n",
    "    \n",
    "        return neighbors\n",
    "\n",
    "    def generate_random_coordinates(self):\n",
    "        while True:\n",
    "            orientation = random.choice([\"horizontal\", \"vertical\"])\n",
    "            start_row = random.randint(0, self.board_size)\n",
    "            start_col = random.randint(0, self.board_size)\n",
    "    \n",
    "            valid_coordinates = True\n",
    "            candidate_coordinates = []\n",
    "    \n",
    "            for i in range(self.size):\n",
    "                row = start_row + i if orientation == \"vertical\" else start_row\n",
    "                col = start_col + i if orientation == \"horizontal\" else start_col\n",
    "    \n",
    "                # Check if the coordinates are within the valid range\n",
    "                if not (0 <= row < self.board_size and 0 <= col < self.board_size):\n",
    "                    valid_coordinates = False\n",
    "                    break\n",
    "    \n",
    "                candidate_coordinates.append((row, col))\n",
    "    \n",
    "            if any(coord in [cell for ship in self.taken_dots for cell in ship] for coord in candidate_coordinates):\n",
    "                valid_coordinates = False\n",
    "            else:\n",
    "                self.coordinates.extend(candidate_coordinates)\n",
    "                break  # Exit the while loop if valid coordinates are found\n",
    "    \n",
    "        if not valid_coordinates:\n",
    "            # If checks fail, start over with an empty list of candidates\n",
    "            self.coordinates = []\n",
    "            self.generate_random_coordinates()\n",
    "    \n",
    "    def return_coordinates(self):\n",
    "        return self.coordinates\n"
   ],
   "metadata": {
    "collapsed": false,
    "ExecuteTime": {
     "end_time": "2023-11-22T05:56:32.792770800Z",
     "start_time": "2023-11-22T05:56:32.774097900Z"
    }
   },
   "id": "7178fb726eb3741e"
  },
  {
   "cell_type": "code",
   "execution_count": 54,
   "outputs": [],
   "source": [
    "class CatalogueOfShips: # final version\n",
    "    ship_masts = [3, 2, 2, 1, 1, 1]   \n",
    "    \n",
    "    def __init__(self, human=True):\n",
    "        if human:\n",
    "            self.ship_objects = []\n",
    "        else:\n",
    "            self.ship_objects = []\n",
    "           \n",
    "    def return_masts(self):\n",
    "        return self.ship_masts\n",
    "\n",
    "human_ship_catalogue = CatalogueOfShips(human=True)\n",
    "computer_ship_catalogue = CatalogueOfShips(human=False)"
   ],
   "metadata": {
    "collapsed": false,
    "ExecuteTime": {
     "end_time": "2023-11-22T05:56:33.628064200Z",
     "start_time": "2023-11-22T05:56:33.609172Z"
    }
   },
   "id": "1ec29cd8cfb8a666"
  },
  {
   "cell_type": "code",
   "execution_count": 55,
   "outputs": [],
   "source": [
    "# create the player class - final version \n",
    "\n",
    "class Player:\n",
    "    def __init__(self, human=True):\n",
    "        if human:  # Human\n",
    "            self.previous_guesses = []\n",
    "            self.hits = []\n",
    "        else:  # Computer\n",
    "            self.previous_guesses = []\n",
    "            self.hits = []\n",
    "            \n",
    "human_player = Player(human=True)\n",
    "computer_player = Player(human=False)"
   ],
   "metadata": {
    "collapsed": false,
    "ExecuteTime": {
     "end_time": "2023-11-22T05:56:34.363287800Z",
     "start_time": "2023-11-22T05:56:34.346063700Z"
    }
   },
   "id": "23bccc3d5a70ebf1"
  },
  {
   "cell_type": "code",
   "execution_count": 56,
   "outputs": [],
   "source": [
    "# create class Dots to store the coordinates of the ships and the dots that have been taken                                                 \n",
    "class Dots:\n",
    "    def __init__(self, human=True):\n",
    "        if human:\n",
    "            self.taken_dots = []\n",
    "        else:\n",
    "            self.taken_dots = []\n",
    "\n",
    "    def update_dots_taken(self, coordinates):\n",
    "        self.taken_dots = coordinates\n",
    "        \n",
    "    def update_ships(self, ships):\n",
    "        self.ships = ships\n",
    "\n",
    "# Create an instance of the Dots class\n",
    "dots_human = Dots(human=True)\n",
    "dots_computer = Dots(human=False)"
   ],
   "metadata": {
    "collapsed": false,
    "ExecuteTime": {
     "end_time": "2023-11-22T05:56:35.183284500Z",
     "start_time": "2023-11-22T05:56:35.171404100Z"
    }
   },
   "id": "6a2290cc642f0788"
  },
  {
   "cell_type": "code",
   "execution_count": 57,
   "outputs": [],
   "source": [
    "class ShipGenerator:\n",
    "    def __init__(self, human=True):\n",
    "        # Initialize with a list of masts from CatalogueOfShips\n",
    "        self.masts = CatalogueOfShips().return_masts()\n",
    "        \n",
    "        # Use self.human to track whether it's a human ship generator\n",
    "        self.human = human\n",
    "\n",
    "    def generate_list_of_ships(self):\n",
    "        for mast in self.masts:\n",
    "            # Create a Ship object based on the mast\n",
    "            self.ship = Ship(mast, human=self.human)\n",
    "\n",
    "            # Generate random coordinates for the ship\n",
    "            self.ship.generate_random_coordinates()\n",
    "            self.ship_coordinates_return = self.ship.return_coordinates()\n",
    "\n",
    "            # Add the ship to the appropriate ship_catalogue\n",
    "            if self.human:\n",
    "                human_ship_catalogue.ship_objects.append(self.ship)\n",
    "                dots_human.taken_dots.append(self.ship_coordinates_return)\n",
    "            else:\n",
    "                computer_ship_catalogue.ship_objects.append(self.ship)\n",
    "                dots_computer.taken_dots.append(self.ship_coordinates_return)\n",
    "\n",
    "# Note: Ensure that CatalogueOfShips and Ship classes are defined elsewhere in your code.\n"
   ],
   "metadata": {
    "collapsed": false,
    "ExecuteTime": {
     "end_time": "2023-11-22T05:56:37.705972800Z",
     "start_time": "2023-11-22T05:56:37.686767600Z"
    }
   },
   "id": "39267d348502598d"
  },
  {
   "cell_type": "code",
   "execution_count": 58,
   "outputs": [],
   "source": [
    "gen = ShipGenerator(human=True)\n",
    "gen.generate_list_of_ships()"
   ],
   "metadata": {
    "collapsed": false,
    "ExecuteTime": {
     "end_time": "2023-11-22T05:56:39.581639700Z",
     "start_time": "2023-11-22T05:56:39.568057800Z"
    }
   },
   "id": "ab69cf1e811e70e6"
  },
  {
   "cell_type": "code",
   "execution_count": 61,
   "outputs": [],
   "source": [
    "gen = ShipGenerator(human=False)\n",
    "gen.generate_list_of_ships()"
   ],
   "metadata": {
    "collapsed": false,
    "ExecuteTime": {
     "end_time": "2023-11-22T05:56:56.377133200Z",
     "start_time": "2023-11-22T05:56:56.365635900Z"
    }
   },
   "id": "534fd4a802e4a077"
  },
  {
   "cell_type": "code",
   "execution_count": 59,
   "outputs": [
    {
     "data": {
      "text/plain": "[[(4, 3), (4, 4), (4, 5)],\n [(3, 4), (3, 5)],\n [(0, 4), (0, 5)],\n [(0, 3)],\n [(3, 1)],\n [(5, 3)]]"
     },
     "execution_count": 59,
     "metadata": {},
     "output_type": "execute_result"
    }
   ],
   "source": [
    "dots_human.taken_dots   "
   ],
   "metadata": {
    "collapsed": false,
    "ExecuteTime": {
     "end_time": "2023-11-22T05:56:40.793872300Z",
     "start_time": "2023-11-22T05:56:40.785581100Z"
    }
   },
   "id": "f186188fdbc9267a"
  },
  {
   "cell_type": "code",
   "execution_count": 62,
   "outputs": [
    {
     "data": {
      "text/plain": "[[(4, 0), (4, 1), (4, 2)],\n [(2, 1), (3, 1)],\n [(5, 3), (5, 4)],\n [(1, 5)],\n [(3, 5)],\n [(2, 2)]]"
     },
     "execution_count": 62,
     "metadata": {},
     "output_type": "execute_result"
    }
   ],
   "source": [
    "dots_computer.taken_dots"
   ],
   "metadata": {
    "collapsed": false,
    "ExecuteTime": {
     "end_time": "2023-11-22T05:57:02.409664100Z",
     "start_time": "2023-11-22T05:57:02.399646100Z"
    }
   },
   "id": "d5ee92df1befba84"
  },
  {
   "cell_type": "code",
   "execution_count": 60,
   "outputs": [
    {
     "name": "stdout",
     "output_type": "stream",
     "text": [
      "[(4, 3), (4, 4), (4, 5)]\n",
      "[(3, 4), (3, 5)]\n",
      "[(0, 4), (0, 5)]\n",
      "[(0, 3)]\n",
      "[(3, 1)]\n",
      "[(5, 3)]\n"
     ]
    }
   ],
   "source": [
    "for i in human_ship_catalogue.ship_objects:\n",
    "    print(i.coordinates)    "
   ],
   "metadata": {
    "collapsed": false,
    "ExecuteTime": {
     "end_time": "2023-11-22T05:56:42.785735600Z",
     "start_time": "2023-11-22T05:56:42.776570Z"
    }
   },
   "id": "3a7dc3e009f26078"
  },
  {
   "cell_type": "code",
   "execution_count": 63,
   "outputs": [
    {
     "name": "stdout",
     "output_type": "stream",
     "text": [
      "[(4, 0), (4, 1), (4, 2)]\n",
      "[(2, 1), (3, 1)]\n",
      "[(5, 3), (5, 4)]\n",
      "[(1, 5)]\n",
      "[(3, 5)]\n",
      "[(2, 2)]\n"
     ]
    }
   ],
   "source": [
    "for i in computer_ship_catalogue.ship_objects:\n",
    "    print(i.coordinates)"
   ],
   "metadata": {
    "collapsed": false,
    "ExecuteTime": {
     "end_time": "2023-11-22T05:57:16.446761Z",
     "start_time": "2023-11-22T05:57:16.428719500Z"
    }
   },
   "id": "79ec5441afece107"
  },
  {
   "cell_type": "code",
   "execution_count": 72,
   "outputs": [],
   "source": [
    "class ShipAllocator:\n",
    "    def __init__(self, human=True):\n",
    "        self.human = human\n",
    "        self.human_board_start = clean_board_human\n",
    "        self.computer_board_start = clean_board_computer\n",
    "\n",
    "    def allocate_ships(self):\n",
    "        if self.human:\n",
    "            for ship in human_ship_catalogue.ship_objects:\n",
    "                for row, col in ship.coordinates:\n",
    "                    self.human_board_start.board[row][col] = '■'\n",
    "            else:\n",
    "                for ship in computer_ship_catalogue.ship_objects:\n",
    "                    for row, col in ship.coordinates:\n",
    "                        self.computer_board_start.board[row][col] = '■'\n",
    "        "
   ],
   "metadata": {
    "collapsed": false,
    "ExecuteTime": {
     "end_time": "2023-11-22T06:03:30.289184900Z",
     "start_time": "2023-11-22T06:03:30.279469300Z"
    }
   },
   "id": "8184ea0b6b1dabdb"
  },
  {
   "cell_type": "code",
   "execution_count": 73,
   "outputs": [],
   "source": [
    "ShipAllocator(human=True).allocate_ships()"
   ],
   "metadata": {
    "collapsed": false,
    "ExecuteTime": {
     "end_time": "2023-11-22T06:03:40.254080200Z",
     "start_time": "2023-11-22T06:03:40.239797200Z"
    }
   },
   "id": "a9bff45f7d8fceab"
  },
  {
   "cell_type": "code",
   "execution_count": 74,
   "outputs": [],
   "source": [
    "ShipAllocator(human=False).allocate_ships()"
   ],
   "metadata": {
    "collapsed": false,
    "ExecuteTime": {
     "end_time": "2023-11-22T06:03:40.753527100Z",
     "start_time": "2023-11-22T06:03:40.730773700Z"
    }
   },
   "id": "e1917683845d30b1"
  },
  {
   "cell_type": "code",
   "execution_count": 75,
   "outputs": [
    {
     "name": "stdout",
     "output_type": "stream",
     "text": [
      "  | 1 | 2 | 3 | 4 | 5 | 6 |\n",
      "1 | O | O | O | ■ | ■ | ■ |\n",
      "2 | O | O | O | O | O | O |\n",
      "3 | O | O | O | O | O | O |\n",
      "4 | O | ■ | O | O | ■ | ■ |\n",
      "5 | O | O | O | ■ | ■ | ■ |\n",
      "6 | O | O | O | ■ | O | O |\n"
     ]
    }
   ],
   "source": [
    "ShipAllocator(human=True).human_board_start.print_board()"
   ],
   "metadata": {
    "collapsed": false,
    "ExecuteTime": {
     "end_time": "2023-11-22T06:03:43.631391100Z",
     "start_time": "2023-11-22T06:03:43.618142500Z"
    }
   },
   "id": "30a3d39944e49d5c"
  },
  {
   "cell_type": "code",
   "execution_count": 76,
   "outputs": [
    {
     "name": "stdout",
     "output_type": "stream",
     "text": [
      "  | 1 | 2 | 3 | 4 | 5 | 6 |\n",
      "1 | O | O | O | O | O | O |\n",
      "2 | O | O | O | O | O | ■ |\n",
      "3 | O | ■ | ■ | O | O | O |\n",
      "4 | O | ■ | O | O | O | ■ |\n",
      "5 | ■ | ■ | ■ | O | O | O |\n",
      "6 | O | O | O | ■ | ■ | O |\n"
     ]
    }
   ],
   "source": [
    "ShipAllocator(human=False).computer_board_start.print_board()"
   ],
   "metadata": {
    "collapsed": false,
    "ExecuteTime": {
     "end_time": "2023-11-22T06:04:01.228540200Z",
     "start_time": "2023-11-22T06:04:01.217914400Z"
    }
   },
   "id": "ad46a16d23d59678"
  }
 ],
 "metadata": {
  "kernelspec": {
   "display_name": "Python 3",
   "language": "python",
   "name": "python3"
  },
  "language_info": {
   "codemirror_mode": {
    "name": "ipython",
    "version": 2
   },
   "file_extension": ".py",
   "mimetype": "text/x-python",
   "name": "python",
   "nbconvert_exporter": "python",
   "pygments_lexer": "ipython2",
   "version": "2.7.6"
  }
 },
 "nbformat": 4,
 "nbformat_minor": 5
}
